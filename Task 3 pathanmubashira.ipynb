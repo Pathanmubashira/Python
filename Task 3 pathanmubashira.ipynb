{
 "cells": [
  {
   "cell_type": "markdown",
   "id": "2b82b073",
   "metadata": {},
   "source": [
    "#### 1) write a python program by taking variables for each data type and convert each variable into all data types.(As discussed in class)"
   ]
  },
  {
   "cell_type": "code",
   "execution_count": 10,
   "id": "b95de4ff",
   "metadata": {},
   "outputs": [
    {
     "name": "stdout",
     "output_type": "stream",
     "text": [
      "10\n",
      "10.0\n",
      "10\n",
      "True\n"
     ]
    }
   ],
   "source": [
    "a=10              #int to int\n",
    "b=int(a)\n",
    "print(b)\n",
    "\n",
    "b=float(a)        #int to float\n",
    "print(b)\n",
    "\n",
    "b=str(a)          #int to str\n",
    "print(b)\n",
    "\n",
    "b=bool(a)         #int to bool\n",
    "print(b)"
   ]
  },
  {
   "cell_type": "code",
   "execution_count": 12,
   "id": "4ec770a1",
   "metadata": {},
   "outputs": [
    {
     "name": "stdout",
     "output_type": "stream",
     "text": [
      "97\n",
      "97.01\n",
      "97.01\n",
      "True\n"
     ]
    }
   ],
   "source": [
    "k=97.01      #float to int\n",
    "h=int(k)\n",
    "print(h)\n",
    "\n",
    "h=float(k)    #float to float\n",
    "print(h)\n",
    "\n",
    "h=str(k)      #float to str\n",
    "print(h)\n",
    "\n",
    "h=bool(k)    #float to bool\n",
    "print(h)\n",
    "\n"
   ]
  },
  {
   "cell_type": "code",
   "execution_count": 15,
   "id": "e2e4d753",
   "metadata": {},
   "outputs": [
    {
     "name": "stdout",
     "output_type": "stream",
     "text": [
      "0\n",
      "0.0\n",
      "False\n",
      "False\n"
     ]
    }
   ],
   "source": [
    "naruto=False                #bool to int\n",
    "itachi=int(naruto)\n",
    "print(itachi)\n",
    "\n",
    "itachi=float(naruto)       #bool to float\n",
    "print(itachi)\n",
    "\n",
    "itachi=str(naruto)         #bool t0 str\n",
    "print(itachi)\n",
    "\n",
    "itachi=bool(naruto)         #bool to bool\n",
    "print(itachi)"
   ]
  },
  {
   "cell_type": "code",
   "execution_count": 20,
   "id": "f61eaa66",
   "metadata": {},
   "outputs": [
    {
     "name": "stdout",
     "output_type": "stream",
     "text": [
      "1001\n",
      "1001.0\n",
      "1001\n",
      "True\n"
     ]
    }
   ],
   "source": [
    "sasuke=\"1001\"                 #str to int\n",
    "sakura=int(sasuke)\n",
    "print(sakura)\n",
    "\n",
    "sakura=float(sasuke)         #str to float\n",
    "print(sakura)\n",
    "\n",
    "sakura=str(sasuke)          #str to str\n",
    "print(sakura)\n",
    "\n",
    "sakura=bool(sasuke)         #str to bool\n",
    "print(sakura)"
   ]
  },
  {
   "cell_type": "markdown",
   "id": "a48fc65a",
   "metadata": {},
   "source": [
    "#### 2.You bought 9 chocolates from a store. Each chocolate costs 1.49 rupees and you gave shopkeeper 20 rupees. Find out using python, how many rupees is the shopkeeper going to give you back?"
   ]
  },
  {
   "cell_type": "code",
   "execution_count": 26,
   "id": "3ee83aa2",
   "metadata": {},
   "outputs": [
    {
     "name": "stdout",
     "output_type": "stream",
     "text": [
      "Shopkeeper is going to return 6.59 rupees.\n"
     ]
    }
   ],
   "source": [
    "chocolates=9\n",
    "cost=1.49\n",
    "the_amt_given_to_the_shopkeeper=20\n",
    "amt_returned=the_amt_given_to_the_shopkeeper-chocolates*cost\n",
    "print(\"Shopkeeper is going to return\",amt_returned, \"rupees.\")"
   ]
  },
  {
   "cell_type": "markdown",
   "id": "2fa7d771",
   "metadata": {},
   "source": [
    "#### 3.You have a floor which is in square shape that is 92 meter long. Find out total area using python and print it with its units."
   ]
  },
  {
   "cell_type": "code",
   "execution_count": 28,
   "id": "9fd87bb2",
   "metadata": {},
   "outputs": [
    {
     "name": "stdout",
     "output_type": "stream",
     "text": [
      "Area of the floor is 8464 m*m\n"
     ]
    }
   ],
   "source": [
    "floor_length=92\n",
    "area=floor_length*floor_length\n",
    "print(\"Area of the floor is\",area,\"m*m\")"
   ]
  },
  {
   "cell_type": "markdown",
   "id": "418f2e77",
   "metadata": {},
   "source": [
    "#### 4.practice arithmetic operators."
   ]
  },
  {
   "cell_type": "code",
   "execution_count": 35,
   "id": "a96917a3",
   "metadata": {},
   "outputs": [
    {
     "name": "stdout",
     "output_type": "stream",
     "text": [
      "addition= 15\n",
      "subtraction= 5\n",
      "multiplication= 50\n",
      "division= 10.0\n",
      "floor division= 2\n",
      "exponent= 100000\n",
      "modulus= 0\n"
     ]
    }
   ],
   "source": [
    "hi=10\n",
    "bye=5\n",
    "print(\"addition=\",hi+bye)\n",
    "print(\"subtraction=\",hi-bye)\n",
    "print(\"multiplication=\",hi*bye)\n",
    "print(\"division=\",hi/b)\n",
    "print(\"floor division=\",hi//bye)\n",
    "print(\"exponent=\",hi**bye)\n",
    "print(\"modulus=\",hi%bye)"
   ]
  },
  {
   "cell_type": "code",
   "execution_count": null,
   "id": "763b1a9d",
   "metadata": {},
   "outputs": [],
   "source": []
  }
 ],
 "metadata": {
  "kernelspec": {
   "display_name": "Python 3 (ipykernel)",
   "language": "python",
   "name": "python3"
  },
  "language_info": {
   "codemirror_mode": {
    "name": "ipython",
    "version": 3
   },
   "file_extension": ".py",
   "mimetype": "text/x-python",
   "name": "python",
   "nbconvert_exporter": "python",
   "pygments_lexer": "ipython3",
   "version": "3.11.5"
  }
 },
 "nbformat": 4,
 "nbformat_minor": 5
}
