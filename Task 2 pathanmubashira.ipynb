{
 "cells": [
  {
   "cell_type": "markdown",
   "id": "4b510452",
   "metadata": {},
   "source": [
    "#### 1. Swapping without third variables, without syntax"
   ]
  },
  {
   "cell_type": "code",
   "execution_count": 1,
   "id": "eee0ce30",
   "metadata": {},
   "outputs": [
    {
     "name": "stdout",
     "output_type": "stream",
     "text": [
      "After swapping:\n",
      "a = 5\n",
      "b = 2\n"
     ]
    }
   ],
   "source": [
    "a = 2\n",
    "b = 5\n",
    "\n",
    "a=a+b\n",
    "b=a-b\n",
    "a=a-b\n",
    "\n",
    "print(\"After swapping:\")\n",
    "print(\"a =\", a)\n",
    "print(\"b =\", b)"
   ]
  },
  {
   "cell_type": "markdown",
   "id": "c051ae2d",
   "metadata": {},
   "source": [
    "#### 3.Create a variable called break and assign it a value 5. See what happens and find out the reason behind the behavior that you see."
   ]
  },
  {
   "cell_type": "code",
   "execution_count": 1,
   "id": "007c4b06",
   "metadata": {},
   "outputs": [
    {
     "ename": "SyntaxError",
     "evalue": "invalid syntax (800182598.py, line 1)",
     "output_type": "error",
     "traceback": [
      "\u001b[1;36m  Cell \u001b[1;32mIn[1], line 1\u001b[1;36m\u001b[0m\n\u001b[1;33m    break=5\u001b[0m\n\u001b[1;37m         ^\u001b[0m\n\u001b[1;31mSyntaxError\u001b[0m\u001b[1;31m:\u001b[0m invalid syntax\n"
     ]
    }
   ],
   "source": [
    "break=5"
   ]
  },
  {
   "cell_type": "markdown",
   "id": "817a9ba8",
   "metadata": {},
   "source": [
    ">This behavior is seen because we used a keyword to create a variable, which is not meant to be do."
   ]
  },
  {
   "cell_type": "markdown",
   "id": "4e352ef8",
   "metadata": {},
   "source": [
    "#### 4.Create two variables. One to store your birth year and another one to store current year. Now calculate your age using these two variables. Store your first, middle and last name in three different variables and then print your full name using these variables"
   ]
  },
  {
   "cell_type": "code",
   "execution_count": 1,
   "id": "21bb5b32",
   "metadata": {},
   "outputs": [
    {
     "name": "stdout",
     "output_type": "stream",
     "text": [
      "I am 23 years old.\n",
      "and My name is  Pathan Mubashira\n"
     ]
    }
   ],
   "source": [
    "YearOfBrith = 2000\n",
    "PresentYear = 2023\n",
    "First_name='Mubashira'\n",
    "Last_name='Pathan '\n",
    "\n",
    "Age = PresentYear - YearOfBrith\n",
    "\n",
    "\n",
    "print(\"I am\", Age, \"years old.\")\n",
    "print('and My name is ',Last_name + First_name)"
   ]
  },
  {
   "cell_type": "markdown",
   "id": "a3e7765a",
   "metadata": {},
   "source": [
    "#### 5.Answer which of these are invalid variable names:"
   ]
  },
  {
   "cell_type": "markdown",
   "id": "1e7356a6",
   "metadata": {},
   "source": [
    "_nation= valid\n",
    "1record= invalid \n",
    "record1= valid\n",
    "record_one= valid\n",
    "record-one= invalid \n",
    "record^o= invalid \n",
    "continue= invalid "
   ]
  },
  {
   "cell_type": "markdown",
   "id": "9ebf0e3e",
   "metadata": {},
   "source": [
    "#### 6.practice taking different data types of variables"
   ]
  },
  {
   "cell_type": "code",
   "execution_count": 3,
   "id": "3632b8ae",
   "metadata": {},
   "outputs": [
    {
     "name": "stdout",
     "output_type": "stream",
     "text": [
      "<class 'int'>\n",
      "<class 'float'>\n",
      "<class 'bool'>\n",
      "<class 'bool'>\n",
      "<class 'str'>\n"
     ]
    }
   ],
   "source": [
    "a= 5\n",
    "b= 00.01\n",
    "c= True\n",
    "d= False\n",
    "e= \"mubashira\"\n",
    "\n",
    "\n",
    "print(type(a))\n",
    "print(type(b))\n",
    "print(type(c))\n",
    "print(type(d))\n",
    "print(type(e))"
   ]
  },
  {
   "cell_type": "code",
   "execution_count": null,
   "id": "6e901e9c",
   "metadata": {},
   "outputs": [],
   "source": []
  }
 ],
 "metadata": {
  "kernelspec": {
   "display_name": "Python 3 (ipykernel)",
   "language": "python",
   "name": "python3"
  },
  "language_info": {
   "codemirror_mode": {
    "name": "ipython",
    "version": 3
   },
   "file_extension": ".py",
   "mimetype": "text/x-python",
   "name": "python",
   "nbconvert_exporter": "python",
   "pygments_lexer": "ipython3",
   "version": "3.11.5"
  }
 },
 "nbformat": 4,
 "nbformat_minor": 5
}
